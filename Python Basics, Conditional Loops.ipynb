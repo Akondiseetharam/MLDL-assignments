{
 "cells": [
  {
   "cell_type": "markdown",
   "id": "23bb255d",
   "metadata": {},
   "source": [
    "## Write a program which will find all such numbers which are divisible by 7 but are not a multiple of 5, between 2000 and 3200 (both included). The numbers obtained should be printed in a comma-seperated sequence on a single line.\n",
    "\n",
    "## Write a Python program to accept the user's first and last name and then getting them printed in the reverse order with a space between first name and last name.\n",
    "\n",
    "## Write a Python program to find the volume of a sphere with diameter 12 cm.\n",
    "  ## Formula: V = 4/3 * pi * r^3"
   ]
  },
  {
   "cell_type": "code",
   "execution_count": null,
   "id": "399cf747",
   "metadata": {},
   "outputs": [],
   "source": [
    "for i in range(2000, 3201):\n",
    "    if i%7==0 and i%5!=0:\n",
    "        print(i, end=\",\")"
   ]
  },
  {
   "cell_type": "code",
   "execution_count": null,
   "id": "3e83f2bd",
   "metadata": {},
   "outputs": [],
   "source": [
    "userName = input().split(\" \")\n",
    "for i in range(len(userName),0,-1):\n",
    "    print(userName[i-1])"
   ]
  },
  {
   "cell_type": "code",
   "execution_count": null,
   "id": "1c9972b2",
   "metadata": {},
   "outputs": [],
   "source": [
    "radius = int(input())\n",
    "pi = 3.14\n",
    "volume = 4/3*(pi)*(radius**3)\n",
    "print(volume)"
   ]
  }
 ],
 "metadata": {
  "kernelspec": {
   "display_name": "Python 3 (ipykernel)",
   "language": "python",
   "name": "python3"
  },
  "language_info": {
   "codemirror_mode": {
    "name": "ipython",
    "version": 3
   },
   "file_extension": ".py",
   "mimetype": "text/x-python",
   "name": "python",
   "nbconvert_exporter": "python",
   "pygments_lexer": "ipython3",
   "version": "3.9.7"
  }
 },
 "nbformat": 4,
 "nbformat_minor": 5
}
