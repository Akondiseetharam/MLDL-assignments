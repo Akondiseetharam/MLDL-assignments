{
 "cells": [
  {
   "cell_type": "markdown",
   "id": "b27a8378",
   "metadata": {},
   "source": [
    "## 1.Introduction \n",
    "## This assignment will help you to consolidate the concepts learnt in the session. \n",
    "## 2.Problem Statement \n",
    "## 1. Write a program which accepts a sequence of comma-separated numbers from console  and generate a list. \n",
    "## 1. Create the below pattern using nested for loop in Python. \n",
    "                * \n",
    "                * * \n",
    "                * * * \n",
    "                * * * * \n",
    "                * * * * * \n",
    "                * * * * \n",
    "                * * * \n",
    "                * * \n",
    "                * \n",
    "## 2. Write a Python program to reverse a word after accepting the input from the user. Sample Output: \n",
    "## Input word: ineuron \n",
    "## Output: norueni\n"
   ]
  },
  {
   "cell_type": "code",
   "execution_count": null,
   "id": "ade11d70",
   "metadata": {},
   "outputs": [],
   "source": [
    "for i in range(1, 5):\n",
    "    print(i*\"* \")\n",
    "print(5*\"* \")\n",
    "for i in range(4, 0,-1):\n",
    "    print(i*\"* \")"
   ]
  },
  {
   "cell_type": "code",
   "execution_count": null,
   "id": "aa5444ee",
   "metadata": {},
   "outputs": [],
   "source": [
    "def reverse(s):\n",
    "    if len(s) == 0:\n",
    "        return s\n",
    "    else:\n",
    "        return reverse(s[1:]) + s[0]\n",
    "  \n",
    "word = input()\n",
    "print(reverse(word))"
   ]
  }
 ],
 "metadata": {
  "kernelspec": {
   "display_name": "Python 3 (ipykernel)",
   "language": "python",
   "name": "python3"
  },
  "language_info": {
   "codemirror_mode": {
    "name": "ipython",
    "version": 3
   },
   "file_extension": ".py",
   "mimetype": "text/x-python",
   "name": "python",
   "nbconvert_exporter": "python",
   "pygments_lexer": "ipython3",
   "version": "3.9.7"
  }
 },
 "nbformat": 4,
 "nbformat_minor": 5
}
